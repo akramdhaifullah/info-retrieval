{
 "cells": [
  {
   "cell_type": "markdown",
   "metadata": {
    "id": "w65GMeAMWABM"
   },
   "source": [
    "### **SIMPLE SEARCH ENGINE IN NEWS GROUP**\n",
    "_____________________________________________________\n",
    "sistem yang dibuat merupakan sistem search engine pada semantic dokumen menggunakan metode **TF-IDF** dan **Google USE (Universal Setence Encoder)** lalu membandingkan perbedaan keduanya dari segi performa dan hasil yang dikeluarkan\n"
   ]
  },
  {
   "cell_type": "markdown",
   "metadata": {
    "id": "gq6iZ0YcgI8w"
   },
   "source": [
    "##### **Import library**"
   ]
  },
  {
   "cell_type": "code",
   "execution_count": 1,
   "metadata": {
    "executionInfo": {
     "elapsed": 1634,
     "status": "ok",
     "timestamp": 1666590950027,
     "user": {
      "displayName": "Galih Wasis Wicaksono",
      "userId": "02341563761367902680"
     },
     "user_tz": -420
    },
    "id": "drR3VJ5oeez_"
   },
   "outputs": [],
   "source": [
    "import pandas as pd\n",
    "import numpy as np\n",
    "import os \n",
    "import re\n",
    "import operator\n",
    "import nltk \n",
    "from nltk.tokenize import word_tokenize\n",
    "from nltk import pos_tag\n",
    "from nltk.corpus import stopwords\n",
    "from nltk.stem import WordNetLemmatizer\n",
    "from collections import defaultdict\n",
    "from nltk.corpus import wordnet as wn\n",
    "from sklearn.feature_extraction.text import TfidfVectorizer"
   ]
  },
  {
   "cell_type": "code",
   "execution_count": 2,
   "metadata": {
    "colab": {
     "base_uri": "https://localhost:8080/"
    },
    "executionInfo": {
     "elapsed": 2804,
     "status": "ok",
     "timestamp": 1666590958364,
     "user": {
      "displayName": "Galih Wasis Wicaksono",
      "userId": "02341563761367902680"
     },
     "user_tz": -420
    },
    "id": "D6qCo9k1c6rz",
    "outputId": "eda343b8-03e9-42d4-911b-13f4ed5f84cb"
   },
   "outputs": [
    {
     "name": "stderr",
     "output_type": "stream",
     "text": [
      "[nltk_data] Downloading package wordnet to /root/nltk_data...\n",
      "[nltk_data] Downloading package stopwords to /root/nltk_data...\n",
      "[nltk_data]   Unzipping corpora/stopwords.zip.\n",
      "[nltk_data] Downloading package punkt to /root/nltk_data...\n",
      "[nltk_data]   Unzipping tokenizers/punkt.zip.\n",
      "[nltk_data] Downloading package omw-1.4 to /root/nltk_data...\n",
      "[nltk_data] Downloading package averaged_perceptron_tagger to\n",
      "[nltk_data]     /root/nltk_data...\n",
      "[nltk_data]   Unzipping taggers/averaged_perceptron_tagger.zip.\n"
     ]
    },
    {
     "data": {
      "text/plain": [
       "True"
      ]
     },
     "execution_count": 2,
     "metadata": {},
     "output_type": "execute_result"
    }
   ],
   "source": [
    "nltk.download('wordnet')\n",
    "nltk.download('stopwords')\n",
    "nltk.download('punkt')\n",
    "nltk.download('omw-1.4')\n",
    "nltk.download('averaged_perceptron_tagger')"
   ]
  },
  {
   "cell_type": "markdown",
   "metadata": {
    "id": "ChPmp7t_cRW9"
   },
   "source": [
    "##### **Document collection**\n",
    "____________________________________\n",
    "data that using from news crawler that has been save in json format"
   ]
  },
  {
   "cell_type": "code",
   "execution_count": 3,
   "metadata": {
    "colab": {
     "base_uri": "https://localhost:8080/",
     "height": 206
    },
    "executionInfo": {
     "elapsed": 1831,
     "status": "ok",
     "timestamp": 1666590964330,
     "user": {
      "displayName": "Galih Wasis Wicaksono",
      "userId": "02341563761367902680"
     },
     "user_tz": -420
    },
    "id": "2scte-n017SU",
    "outputId": "5d7d7d89-b5bf-459b-97aa-d45c114470a3"
   },
   "outputs": [
    {
     "data": {
      "text/html": [
       "\n",
       "  <div id=\"df-6f0e2747-1b64-4973-ae33-2c5e9abee4f4\">\n",
       "    <div class=\"colab-df-container\">\n",
       "      <div>\n",
       "<style scoped>\n",
       "    .dataframe tbody tr th:only-of-type {\n",
       "        vertical-align: middle;\n",
       "    }\n",
       "\n",
       "    .dataframe tbody tr th {\n",
       "        vertical-align: top;\n",
       "    }\n",
       "\n",
       "    .dataframe thead th {\n",
       "        text-align: right;\n",
       "    }\n",
       "</style>\n",
       "<table border=\"1\" class=\"dataframe\">\n",
       "  <thead>\n",
       "    <tr style=\"text-align: right;\">\n",
       "      <th></th>\n",
       "      <th>content</th>\n",
       "      <th>target</th>\n",
       "      <th>target_names</th>\n",
       "    </tr>\n",
       "  </thead>\n",
       "  <tbody>\n",
       "    <tr>\n",
       "      <th>0</th>\n",
       "      <td>From: lerxst@wam.umd.edu (where's my thing)\\nS...</td>\n",
       "      <td>7</td>\n",
       "      <td>rec.autos</td>\n",
       "    </tr>\n",
       "    <tr>\n",
       "      <th>1</th>\n",
       "      <td>From: guykuo@carson.u.washington.edu (Guy Kuo)...</td>\n",
       "      <td>4</td>\n",
       "      <td>comp.sys.mac.hardware</td>\n",
       "    </tr>\n",
       "    <tr>\n",
       "      <th>2</th>\n",
       "      <td>From: twillis@ec.ecn.purdue.edu (Thomas E Will...</td>\n",
       "      <td>4</td>\n",
       "      <td>comp.sys.mac.hardware</td>\n",
       "    </tr>\n",
       "    <tr>\n",
       "      <th>3</th>\n",
       "      <td>From: jgreen@amber (Joe Green)\\nSubject: Re: W...</td>\n",
       "      <td>1</td>\n",
       "      <td>comp.graphics</td>\n",
       "    </tr>\n",
       "    <tr>\n",
       "      <th>4</th>\n",
       "      <td>From: jcm@head-cfa.harvard.edu (Jonathan McDow...</td>\n",
       "      <td>14</td>\n",
       "      <td>sci.space</td>\n",
       "    </tr>\n",
       "  </tbody>\n",
       "</table>\n",
       "</div>\n",
       "      <button class=\"colab-df-convert\" onclick=\"convertToInteractive('df-6f0e2747-1b64-4973-ae33-2c5e9abee4f4')\"\n",
       "              title=\"Convert this dataframe to an interactive table.\"\n",
       "              style=\"display:none;\">\n",
       "        \n",
       "  <svg xmlns=\"http://www.w3.org/2000/svg\" height=\"24px\"viewBox=\"0 0 24 24\"\n",
       "       width=\"24px\">\n",
       "    <path d=\"M0 0h24v24H0V0z\" fill=\"none\"/>\n",
       "    <path d=\"M18.56 5.44l.94 2.06.94-2.06 2.06-.94-2.06-.94-.94-2.06-.94 2.06-2.06.94zm-11 1L8.5 8.5l.94-2.06 2.06-.94-2.06-.94L8.5 2.5l-.94 2.06-2.06.94zm10 10l.94 2.06.94-2.06 2.06-.94-2.06-.94-.94-2.06-.94 2.06-2.06.94z\"/><path d=\"M17.41 7.96l-1.37-1.37c-.4-.4-.92-.59-1.43-.59-.52 0-1.04.2-1.43.59L10.3 9.45l-7.72 7.72c-.78.78-.78 2.05 0 2.83L4 21.41c.39.39.9.59 1.41.59.51 0 1.02-.2 1.41-.59l7.78-7.78 2.81-2.81c.8-.78.8-2.07 0-2.86zM5.41 20L4 18.59l7.72-7.72 1.47 1.35L5.41 20z\"/>\n",
       "  </svg>\n",
       "      </button>\n",
       "      \n",
       "  <style>\n",
       "    .colab-df-container {\n",
       "      display:flex;\n",
       "      flex-wrap:wrap;\n",
       "      gap: 12px;\n",
       "    }\n",
       "\n",
       "    .colab-df-convert {\n",
       "      background-color: #E8F0FE;\n",
       "      border: none;\n",
       "      border-radius: 50%;\n",
       "      cursor: pointer;\n",
       "      display: none;\n",
       "      fill: #1967D2;\n",
       "      height: 32px;\n",
       "      padding: 0 0 0 0;\n",
       "      width: 32px;\n",
       "    }\n",
       "\n",
       "    .colab-df-convert:hover {\n",
       "      background-color: #E2EBFA;\n",
       "      box-shadow: 0px 1px 2px rgba(60, 64, 67, 0.3), 0px 1px 3px 1px rgba(60, 64, 67, 0.15);\n",
       "      fill: #174EA6;\n",
       "    }\n",
       "\n",
       "    [theme=dark] .colab-df-convert {\n",
       "      background-color: #3B4455;\n",
       "      fill: #D2E3FC;\n",
       "    }\n",
       "\n",
       "    [theme=dark] .colab-df-convert:hover {\n",
       "      background-color: #434B5C;\n",
       "      box-shadow: 0px 1px 3px 1px rgba(0, 0, 0, 0.15);\n",
       "      filter: drop-shadow(0px 1px 2px rgba(0, 0, 0, 0.3));\n",
       "      fill: #FFFFFF;\n",
       "    }\n",
       "  </style>\n",
       "\n",
       "      <script>\n",
       "        const buttonEl =\n",
       "          document.querySelector('#df-6f0e2747-1b64-4973-ae33-2c5e9abee4f4 button.colab-df-convert');\n",
       "        buttonEl.style.display =\n",
       "          google.colab.kernel.accessAllowed ? 'block' : 'none';\n",
       "\n",
       "        async function convertToInteractive(key) {\n",
       "          const element = document.querySelector('#df-6f0e2747-1b64-4973-ae33-2c5e9abee4f4');\n",
       "          const dataTable =\n",
       "            await google.colab.kernel.invokeFunction('convertToInteractive',\n",
       "                                                     [key], {});\n",
       "          if (!dataTable) return;\n",
       "\n",
       "          const docLinkHtml = 'Like what you see? Visit the ' +\n",
       "            '<a target=\"_blank\" href=https://colab.research.google.com/notebooks/data_table.ipynb>data table notebook</a>'\n",
       "            + ' to learn more about interactive tables.';\n",
       "          element.innerHTML = '';\n",
       "          dataTable['output_type'] = 'display_data';\n",
       "          await google.colab.output.renderOutput(dataTable, element);\n",
       "          const docLink = document.createElement('div');\n",
       "          docLink.innerHTML = docLinkHtml;\n",
       "          element.appendChild(docLink);\n",
       "        }\n",
       "      </script>\n",
       "    </div>\n",
       "  </div>\n",
       "  "
      ],
      "text/plain": [
       "                                             content  target  \\\n",
       "0  From: lerxst@wam.umd.edu (where's my thing)\\nS...       7   \n",
       "1  From: guykuo@carson.u.washington.edu (Guy Kuo)...       4   \n",
       "2  From: twillis@ec.ecn.purdue.edu (Thomas E Will...       4   \n",
       "3  From: jgreen@amber (Joe Green)\\nSubject: Re: W...       1   \n",
       "4  From: jcm@head-cfa.harvard.edu (Jonathan McDow...      14   \n",
       "\n",
       "            target_names  \n",
       "0              rec.autos  \n",
       "1  comp.sys.mac.hardware  \n",
       "2  comp.sys.mac.hardware  \n",
       "3          comp.graphics  \n",
       "4              sci.space  "
      ]
     },
     "execution_count": 3,
     "metadata": {},
     "output_type": "execute_result"
    }
   ],
   "source": [
    "news = pd.read_json('https://raw.githubusercontent.com/zayedrais/DocumentSearchEngine/master/data/newsgroups.json')\n",
    "news.head()"
   ]
  },
  {
   "cell_type": "markdown",
   "metadata": {
    "id": "CjMBwesAccgJ"
   },
   "source": [
    "##### **Document pre-processing**"
   ]
  },
  {
   "cell_type": "markdown",
   "metadata": {
    "id": "VK8wXLrdcVsl"
   },
   "source": [
    "###### case folding"
   ]
  },
  {
   "cell_type": "code",
   "execution_count": 4,
   "metadata": {
    "executionInfo": {
     "elapsed": 7466,
     "status": "ok",
     "timestamp": 1666590976778,
     "user": {
      "displayName": "Galih Wasis Wicaksono",
      "userId": "02341563761367902680"
     },
     "user_tz": -420
    },
    "id": "SbwPw8l1bZmJ"
   },
   "outputs": [],
   "source": [
    "for i,txt in enumerate(news['content']):\n",
    "    #print(i)\n",
    "    subject = re.findall('Subject:(.*\\n)',txt)\n",
    "    if (len(subject) !=0):\n",
    "        news.loc[i,'Subject'] =str(i)+' '+subject[0]\n",
    "    else:\n",
    "        news.loc[i,'Subject'] ='NA'"
   ]
  },
  {
   "cell_type": "code",
   "execution_count": 5,
   "metadata": {
    "executionInfo": {
     "elapsed": 547,
     "status": "ok",
     "timestamp": 1666590979640,
     "user": {
      "displayName": "Galih Wasis Wicaksono",
      "userId": "02341563761367902680"
     },
     "user_tz": -420
    },
    "id": "wCapbNsVap10"
   },
   "outputs": [],
   "source": [
    "df_news =news[['Subject','content']]"
   ]
  },
  {
   "cell_type": "code",
   "execution_count": 6,
   "metadata": {
    "colab": {
     "base_uri": "https://localhost:8080/"
    },
    "executionInfo": {
     "elapsed": 339,
     "status": "ok",
     "timestamp": 1666590983710,
     "user": {
      "displayName": "Galih Wasis Wicaksono",
      "userId": "02341563761367902680"
     },
     "user_tz": -420
    },
    "id": "-WKDpm_Bas2F",
    "outputId": "373d7d98-0e2f-41ec-8c57-30e1042d5d33"
   },
   "outputs": [
    {
     "name": "stderr",
     "output_type": "stream",
     "text": [
      "/usr/local/lib/python3.7/dist-packages/ipykernel_launcher.py:2: SettingWithCopyWarning: \n",
      "A value is trying to be set on a copy of a slice from a DataFrame.\n",
      "Try using .loc[row_indexer,col_indexer] = value instead\n",
      "\n",
      "See the caveats in the documentation: https://pandas.pydata.org/pandas-docs/stable/user_guide/indexing.html#returning-a-view-versus-a-copy\n",
      "  \n"
     ]
    }
   ],
   "source": [
    "# Change all the text to lower case. This is required as python interprets 'dog' and 'DOG' differently\n",
    "df_news['content']=[entry.lower() for entry in df_news['content']]"
   ]
  },
  {
   "cell_type": "code",
   "execution_count": 7,
   "metadata": {
    "executionInfo": {
     "elapsed": 343,
     "status": "ok",
     "timestamp": 1666590991185,
     "user": {
      "displayName": "Galih Wasis Wicaksono",
      "userId": "02341563761367902680"
     },
     "user_tz": -420
    },
    "id": "ahtALYe4av6v"
   },
   "outputs": [],
   "source": [
    "SW=['subject:','organization:','thanks','thank','re:']"
   ]
  },
  {
   "cell_type": "code",
   "execution_count": 8,
   "metadata": {
    "colab": {
     "base_uri": "https://localhost:8080/"
    },
    "executionInfo": {
     "elapsed": 897,
     "status": "ok",
     "timestamp": 1666590995363,
     "user": {
      "displayName": "Galih Wasis Wicaksono",
      "userId": "02341563761367902680"
     },
     "user_tz": -420
    },
    "id": "4raDLfqla0BP",
    "outputId": "b5c445cc-bd75-4ee5-fdd0-b3d1524a186b"
   },
   "outputs": [
    {
     "name": "stderr",
     "output_type": "stream",
     "text": [
      "/usr/local/lib/python3.7/dist-packages/pandas/core/generic.py:5516: SettingWithCopyWarning: \n",
      "A value is trying to be set on a copy of a slice from a DataFrame.\n",
      "Try using .loc[row_indexer,col_indexer] = value instead\n",
      "\n",
      "See the caveats in the documentation: https://pandas.pydata.org/pandas-docs/stable/user_guide/indexing.html#returning-a-view-versus-a-copy\n",
      "  self[name] = value\n"
     ]
    }
   ],
   "source": [
    "for sw in SW:\n",
    "    df_news.content=df_news.content.replace(to_replace=sw,value='',regex=True)"
   ]
  },
  {
   "cell_type": "code",
   "execution_count": 9,
   "metadata": {
    "executionInfo": {
     "elapsed": 2348,
     "status": "ok",
     "timestamp": 1666591003914,
     "user": {
      "displayName": "Galih Wasis Wicaksono",
      "userId": "02341563761367902680"
     },
     "user_tz": -420
    },
    "id": "wxC90t4pbfhx"
   },
   "outputs": [],
   "source": [
    "## data Cleaning for content data of news\n",
    "df_news.content =df_news.content.replace(to_replace='from:(.*\\n)',value='',regex=True) #remove from to email \n",
    "df_news.content =df_news.content.replace(to_replace='lines:(.*\\n)',value='',regex=True)\n",
    "df_news.content =df_news.content.replace(to_replace='[!\"#$%&\\'()*+,/:;<=>?@[\\\\]^_`{|}~]',value=' ',regex=True) #remove punctuation except\n",
    "df_news.content =df_news.content.replace(to_replace='-',value=' ',regex=True)\n",
    "df_news.content =df_news.content.replace(to_replace='\\s+',value=' ',regex=True)    #remove new line\n",
    "df_news.content =df_news.content.replace(to_replace='  ',value='',regex=True)                #remove double white space\n",
    "df_news.content =df_news.content.apply(lambda x:x.strip())  # Ltrim and Rtrim of whitespace"
   ]
  },
  {
   "cell_type": "code",
   "execution_count": 10,
   "metadata": {
    "executionInfo": {
     "elapsed": 331,
     "status": "ok",
     "timestamp": 1666591009402,
     "user": {
      "displayName": "Galih Wasis Wicaksono",
      "userId": "02341563761367902680"
     },
     "user_tz": -420
    },
    "id": "Q7w4eG67a7Ap"
   },
   "outputs": [],
   "source": [
    "## data cleaning for subject data \n",
    "df_news.Subject =df_news.Subject.replace(to_replace='Re:',value='',regex=True)\n",
    "df_news.Subject =df_news.Subject.replace(to_replace='[!\"#$%&\\'()*+,-./:;<=>?@[\\\\]^_`{|}~]',value=' ',regex=True)\n",
    "df_news.Subject =df_news.Subject.replace(to_replace='\\s+',value=' ',regex=True)    #remove new line\n",
    "df_news.Subject =df_news.Subject.replace(to_replace='  ',value='',regex=True)    #remove double white space\n",
    "df_news.Subject =df_news.Subject.apply(lambda x:x.strip())"
   ]
  },
  {
   "cell_type": "code",
   "execution_count": 11,
   "metadata": {
    "colab": {
     "base_uri": "https://localhost:8080/",
     "height": 206
    },
    "executionInfo": {
     "elapsed": 347,
     "status": "ok",
     "timestamp": 1666591011920,
     "user": {
      "displayName": "Galih Wasis Wicaksono",
      "userId": "02341563761367902680"
     },
     "user_tz": -420
    },
    "id": "fAb4TP16NRHs",
    "outputId": "ae938df1-89a6-46e0-826c-5347ded4b4eb"
   },
   "outputs": [
    {
     "data": {
      "text/html": [
       "\n",
       "  <div id=\"df-4d80520d-1d7b-4bbd-a2cd-150646e445a6\">\n",
       "    <div class=\"colab-df-container\">\n",
       "      <div>\n",
       "<style scoped>\n",
       "    .dataframe tbody tr th:only-of-type {\n",
       "        vertical-align: middle;\n",
       "    }\n",
       "\n",
       "    .dataframe tbody tr th {\n",
       "        vertical-align: top;\n",
       "    }\n",
       "\n",
       "    .dataframe thead th {\n",
       "        text-align: right;\n",
       "    }\n",
       "</style>\n",
       "<table border=\"1\" class=\"dataframe\">\n",
       "  <thead>\n",
       "    <tr style=\"text-align: right;\">\n",
       "      <th></th>\n",
       "      <th>Subject</th>\n",
       "      <th>content</th>\n",
       "    </tr>\n",
       "  </thead>\n",
       "  <tbody>\n",
       "    <tr>\n",
       "      <th>0</th>\n",
       "      <td>0 WHAT car is this</td>\n",
       "      <td>what car is this nntp posting host rac3.wam.um...</td>\n",
       "    </tr>\n",
       "    <tr>\n",
       "      <th>1</th>\n",
       "      <td>1 SI Clock Poll Final Call</td>\n",
       "      <td>si clock poll final call summary final call fo...</td>\n",
       "    </tr>\n",
       "    <tr>\n",
       "      <th>2</th>\n",
       "      <td>2 PB questions</td>\n",
       "      <td>pb questions... purdue university engineering ...</td>\n",
       "    </tr>\n",
       "    <tr>\n",
       "      <th>3</th>\n",
       "      <td>3 Weitek P9000</td>\n",
       "      <td>weitek p9000 harris computer systems division ...</td>\n",
       "    </tr>\n",
       "    <tr>\n",
       "      <th>4</th>\n",
       "      <td>4 Shuttle Launch Question</td>\n",
       "      <td>shuttle launch question smithsonian astrophysi...</td>\n",
       "    </tr>\n",
       "  </tbody>\n",
       "</table>\n",
       "</div>\n",
       "      <button class=\"colab-df-convert\" onclick=\"convertToInteractive('df-4d80520d-1d7b-4bbd-a2cd-150646e445a6')\"\n",
       "              title=\"Convert this dataframe to an interactive table.\"\n",
       "              style=\"display:none;\">\n",
       "        \n",
       "  <svg xmlns=\"http://www.w3.org/2000/svg\" height=\"24px\"viewBox=\"0 0 24 24\"\n",
       "       width=\"24px\">\n",
       "    <path d=\"M0 0h24v24H0V0z\" fill=\"none\"/>\n",
       "    <path d=\"M18.56 5.44l.94 2.06.94-2.06 2.06-.94-2.06-.94-.94-2.06-.94 2.06-2.06.94zm-11 1L8.5 8.5l.94-2.06 2.06-.94-2.06-.94L8.5 2.5l-.94 2.06-2.06.94zm10 10l.94 2.06.94-2.06 2.06-.94-2.06-.94-.94-2.06-.94 2.06-2.06.94z\"/><path d=\"M17.41 7.96l-1.37-1.37c-.4-.4-.92-.59-1.43-.59-.52 0-1.04.2-1.43.59L10.3 9.45l-7.72 7.72c-.78.78-.78 2.05 0 2.83L4 21.41c.39.39.9.59 1.41.59.51 0 1.02-.2 1.41-.59l7.78-7.78 2.81-2.81c.8-.78.8-2.07 0-2.86zM5.41 20L4 18.59l7.72-7.72 1.47 1.35L5.41 20z\"/>\n",
       "  </svg>\n",
       "      </button>\n",
       "      \n",
       "  <style>\n",
       "    .colab-df-container {\n",
       "      display:flex;\n",
       "      flex-wrap:wrap;\n",
       "      gap: 12px;\n",
       "    }\n",
       "\n",
       "    .colab-df-convert {\n",
       "      background-color: #E8F0FE;\n",
       "      border: none;\n",
       "      border-radius: 50%;\n",
       "      cursor: pointer;\n",
       "      display: none;\n",
       "      fill: #1967D2;\n",
       "      height: 32px;\n",
       "      padding: 0 0 0 0;\n",
       "      width: 32px;\n",
       "    }\n",
       "\n",
       "    .colab-df-convert:hover {\n",
       "      background-color: #E2EBFA;\n",
       "      box-shadow: 0px 1px 2px rgba(60, 64, 67, 0.3), 0px 1px 3px 1px rgba(60, 64, 67, 0.15);\n",
       "      fill: #174EA6;\n",
       "    }\n",
       "\n",
       "    [theme=dark] .colab-df-convert {\n",
       "      background-color: #3B4455;\n",
       "      fill: #D2E3FC;\n",
       "    }\n",
       "\n",
       "    [theme=dark] .colab-df-convert:hover {\n",
       "      background-color: #434B5C;\n",
       "      box-shadow: 0px 1px 3px 1px rgba(0, 0, 0, 0.15);\n",
       "      filter: drop-shadow(0px 1px 2px rgba(0, 0, 0, 0.3));\n",
       "      fill: #FFFFFF;\n",
       "    }\n",
       "  </style>\n",
       "\n",
       "      <script>\n",
       "        const buttonEl =\n",
       "          document.querySelector('#df-4d80520d-1d7b-4bbd-a2cd-150646e445a6 button.colab-df-convert');\n",
       "        buttonEl.style.display =\n",
       "          google.colab.kernel.accessAllowed ? 'block' : 'none';\n",
       "\n",
       "        async function convertToInteractive(key) {\n",
       "          const element = document.querySelector('#df-4d80520d-1d7b-4bbd-a2cd-150646e445a6');\n",
       "          const dataTable =\n",
       "            await google.colab.kernel.invokeFunction('convertToInteractive',\n",
       "                                                     [key], {});\n",
       "          if (!dataTable) return;\n",
       "\n",
       "          const docLinkHtml = 'Like what you see? Visit the ' +\n",
       "            '<a target=\"_blank\" href=https://colab.research.google.com/notebooks/data_table.ipynb>data table notebook</a>'\n",
       "            + ' to learn more about interactive tables.';\n",
       "          element.innerHTML = '';\n",
       "          dataTable['output_type'] = 'display_data';\n",
       "          await google.colab.output.renderOutput(dataTable, element);\n",
       "          const docLink = document.createElement('div');\n",
       "          docLink.innerHTML = docLinkHtml;\n",
       "          element.appendChild(docLink);\n",
       "        }\n",
       "      </script>\n",
       "    </div>\n",
       "  </div>\n",
       "  "
      ],
      "text/plain": [
       "                      Subject  \\\n",
       "0          0 WHAT car is this   \n",
       "1  1 SI Clock Poll Final Call   \n",
       "2              2 PB questions   \n",
       "3              3 Weitek P9000   \n",
       "4   4 Shuttle Launch Question   \n",
       "\n",
       "                                             content  \n",
       "0  what car is this nntp posting host rac3.wam.um...  \n",
       "1  si clock poll final call summary final call fo...  \n",
       "2  pb questions... purdue university engineering ...  \n",
       "3  weitek p9000 harris computer systems division ...  \n",
       "4  shuttle launch question smithsonian astrophysi...  "
      ]
     },
     "execution_count": 11,
     "metadata": {},
     "output_type": "execute_result"
    }
   ],
   "source": [
    "df_news.head(5)"
   ]
  },
  {
   "cell_type": "markdown",
   "metadata": {
    "id": "S6UDg154bFN8"
   },
   "source": [
    "###### checking empty rows"
   ]
  },
  {
   "cell_type": "code",
   "execution_count": 12,
   "metadata": {
    "executionInfo": {
     "elapsed": 328,
     "status": "ok",
     "timestamp": 1666591019222,
     "user": {
      "displayName": "Galih Wasis Wicaksono",
      "userId": "02341563761367902680"
     },
     "user_tz": -420
    },
    "id": "GfMXSVavbIym"
   },
   "outputs": [],
   "source": [
    "## ## Checking  and drop empty data\n",
    "for i,sen in enumerate(df_news.content):\n",
    "    if len(sen.strip()) ==0:\n",
    "        print(str(i))\n",
    "        #file_data.text[i] = np.nan\n",
    "        df_news=df_news.drop(str(i),axis=0).reset_index().drop('index',axis=1)"
   ]
  },
  {
   "cell_type": "markdown",
   "metadata": {
    "id": "3ZJ4Yetkff1_"
   },
   "source": [
    "###### tokenization\n",
    "\n",
    "___________________________________________________________________\n",
    "Tokenization : In this each entry in the file_data will be broken into set of words"
   ]
  },
  {
   "cell_type": "code",
   "execution_count": 13,
   "metadata": {
    "colab": {
     "base_uri": "https://localhost:8080/",
     "height": 313
    },
    "executionInfo": {
     "elapsed": 24814,
     "status": "ok",
     "timestamp": 1666591047833,
     "user": {
      "displayName": "Galih Wasis Wicaksono",
      "userId": "02341563761367902680"
     },
     "user_tz": -420
    },
    "id": "lNNpXGEZNiCF",
    "outputId": "720997a4-c6f3-4c9b-c79b-bc7a65fdf9d2"
   },
   "outputs": [
    {
     "name": "stderr",
     "output_type": "stream",
     "text": [
      "/usr/local/lib/python3.7/dist-packages/ipykernel_launcher.py:1: SettingWithCopyWarning: \n",
      "A value is trying to be set on a copy of a slice from a DataFrame.\n",
      "Try using .loc[row_indexer,col_indexer] = value instead\n",
      "\n",
      "See the caveats in the documentation: https://pandas.pydata.org/pandas-docs/stable/user_guide/indexing.html#returning-a-view-versus-a-copy\n",
      "  \"\"\"Entry point for launching an IPython kernel.\n"
     ]
    },
    {
     "data": {
      "text/html": [
       "\n",
       "  <div id=\"df-5dfe40df-5126-43f1-a294-366c7412a4ce\">\n",
       "    <div class=\"colab-df-container\">\n",
       "      <div>\n",
       "<style scoped>\n",
       "    .dataframe tbody tr th:only-of-type {\n",
       "        vertical-align: middle;\n",
       "    }\n",
       "\n",
       "    .dataframe tbody tr th {\n",
       "        vertical-align: top;\n",
       "    }\n",
       "\n",
       "    .dataframe thead th {\n",
       "        text-align: right;\n",
       "    }\n",
       "</style>\n",
       "<table border=\"1\" class=\"dataframe\">\n",
       "  <thead>\n",
       "    <tr style=\"text-align: right;\">\n",
       "      <th></th>\n",
       "      <th>Subject</th>\n",
       "      <th>content</th>\n",
       "      <th>Word tokenize</th>\n",
       "    </tr>\n",
       "  </thead>\n",
       "  <tbody>\n",
       "    <tr>\n",
       "      <th>0</th>\n",
       "      <td>0 WHAT car is this</td>\n",
       "      <td>what car is this nntp posting host rac3.wam.um...</td>\n",
       "      <td>[what, car, is, this, nntp, posting, host, rac...</td>\n",
       "    </tr>\n",
       "    <tr>\n",
       "      <th>1</th>\n",
       "      <td>1 SI Clock Poll Final Call</td>\n",
       "      <td>si clock poll final call summary final call fo...</td>\n",
       "      <td>[si, clock, poll, final, call, summary, final,...</td>\n",
       "    </tr>\n",
       "    <tr>\n",
       "      <th>2</th>\n",
       "      <td>2 PB questions</td>\n",
       "      <td>pb questions... purdue university engineering ...</td>\n",
       "      <td>[pb, questions, ..., purdue, university, engin...</td>\n",
       "    </tr>\n",
       "    <tr>\n",
       "      <th>3</th>\n",
       "      <td>3 Weitek P9000</td>\n",
       "      <td>weitek p9000 harris computer systems division ...</td>\n",
       "      <td>[weitek, p9000, harris, computer, systems, div...</td>\n",
       "    </tr>\n",
       "    <tr>\n",
       "      <th>4</th>\n",
       "      <td>4 Shuttle Launch Question</td>\n",
       "      <td>shuttle launch question smithsonian astrophysi...</td>\n",
       "      <td>[shuttle, launch, question, smithsonian, astro...</td>\n",
       "    </tr>\n",
       "  </tbody>\n",
       "</table>\n",
       "</div>\n",
       "      <button class=\"colab-df-convert\" onclick=\"convertToInteractive('df-5dfe40df-5126-43f1-a294-366c7412a4ce')\"\n",
       "              title=\"Convert this dataframe to an interactive table.\"\n",
       "              style=\"display:none;\">\n",
       "        \n",
       "  <svg xmlns=\"http://www.w3.org/2000/svg\" height=\"24px\"viewBox=\"0 0 24 24\"\n",
       "       width=\"24px\">\n",
       "    <path d=\"M0 0h24v24H0V0z\" fill=\"none\"/>\n",
       "    <path d=\"M18.56 5.44l.94 2.06.94-2.06 2.06-.94-2.06-.94-.94-2.06-.94 2.06-2.06.94zm-11 1L8.5 8.5l.94-2.06 2.06-.94-2.06-.94L8.5 2.5l-.94 2.06-2.06.94zm10 10l.94 2.06.94-2.06 2.06-.94-2.06-.94-.94-2.06-.94 2.06-2.06.94z\"/><path d=\"M17.41 7.96l-1.37-1.37c-.4-.4-.92-.59-1.43-.59-.52 0-1.04.2-1.43.59L10.3 9.45l-7.72 7.72c-.78.78-.78 2.05 0 2.83L4 21.41c.39.39.9.59 1.41.59.51 0 1.02-.2 1.41-.59l7.78-7.78 2.81-2.81c.8-.78.8-2.07 0-2.86zM5.41 20L4 18.59l7.72-7.72 1.47 1.35L5.41 20z\"/>\n",
       "  </svg>\n",
       "      </button>\n",
       "      \n",
       "  <style>\n",
       "    .colab-df-container {\n",
       "      display:flex;\n",
       "      flex-wrap:wrap;\n",
       "      gap: 12px;\n",
       "    }\n",
       "\n",
       "    .colab-df-convert {\n",
       "      background-color: #E8F0FE;\n",
       "      border: none;\n",
       "      border-radius: 50%;\n",
       "      cursor: pointer;\n",
       "      display: none;\n",
       "      fill: #1967D2;\n",
       "      height: 32px;\n",
       "      padding: 0 0 0 0;\n",
       "      width: 32px;\n",
       "    }\n",
       "\n",
       "    .colab-df-convert:hover {\n",
       "      background-color: #E2EBFA;\n",
       "      box-shadow: 0px 1px 2px rgba(60, 64, 67, 0.3), 0px 1px 3px 1px rgba(60, 64, 67, 0.15);\n",
       "      fill: #174EA6;\n",
       "    }\n",
       "\n",
       "    [theme=dark] .colab-df-convert {\n",
       "      background-color: #3B4455;\n",
       "      fill: #D2E3FC;\n",
       "    }\n",
       "\n",
       "    [theme=dark] .colab-df-convert:hover {\n",
       "      background-color: #434B5C;\n",
       "      box-shadow: 0px 1px 3px 1px rgba(0, 0, 0, 0.15);\n",
       "      filter: drop-shadow(0px 1px 2px rgba(0, 0, 0, 0.3));\n",
       "      fill: #FFFFFF;\n",
       "    }\n",
       "  </style>\n",
       "\n",
       "      <script>\n",
       "        const buttonEl =\n",
       "          document.querySelector('#df-5dfe40df-5126-43f1-a294-366c7412a4ce button.colab-df-convert');\n",
       "        buttonEl.style.display =\n",
       "          google.colab.kernel.accessAllowed ? 'block' : 'none';\n",
       "\n",
       "        async function convertToInteractive(key) {\n",
       "          const element = document.querySelector('#df-5dfe40df-5126-43f1-a294-366c7412a4ce');\n",
       "          const dataTable =\n",
       "            await google.colab.kernel.invokeFunction('convertToInteractive',\n",
       "                                                     [key], {});\n",
       "          if (!dataTable) return;\n",
       "\n",
       "          const docLinkHtml = 'Like what you see? Visit the ' +\n",
       "            '<a target=\"_blank\" href=https://colab.research.google.com/notebooks/data_table.ipynb>data table notebook</a>'\n",
       "            + ' to learn more about interactive tables.';\n",
       "          element.innerHTML = '';\n",
       "          dataTable['output_type'] = 'display_data';\n",
       "          await google.colab.output.renderOutput(dataTable, element);\n",
       "          const docLink = document.createElement('div');\n",
       "          docLink.innerHTML = docLinkHtml;\n",
       "          element.appendChild(docLink);\n",
       "        }\n",
       "      </script>\n",
       "    </div>\n",
       "  </div>\n",
       "  "
      ],
      "text/plain": [
       "                      Subject  \\\n",
       "0          0 WHAT car is this   \n",
       "1  1 SI Clock Poll Final Call   \n",
       "2              2 PB questions   \n",
       "3              3 Weitek P9000   \n",
       "4   4 Shuttle Launch Question   \n",
       "\n",
       "                                             content  \\\n",
       "0  what car is this nntp posting host rac3.wam.um...   \n",
       "1  si clock poll final call summary final call fo...   \n",
       "2  pb questions... purdue university engineering ...   \n",
       "3  weitek p9000 harris computer systems division ...   \n",
       "4  shuttle launch question smithsonian astrophysi...   \n",
       "\n",
       "                                       Word tokenize  \n",
       "0  [what, car, is, this, nntp, posting, host, rac...  \n",
       "1  [si, clock, poll, final, call, summary, final,...  \n",
       "2  [pb, questions, ..., purdue, university, engin...  \n",
       "3  [weitek, p9000, harris, computer, systems, div...  \n",
       "4  [shuttle, launch, question, smithsonian, astro...  "
      ]
     },
     "execution_count": 13,
     "metadata": {},
     "output_type": "execute_result"
    }
   ],
   "source": [
    "df_news['Word tokenize']= [word_tokenize(entry) for entry in df_news.content]\n",
    "df_news.head(5)"
   ]
  },
  {
   "cell_type": "markdown",
   "metadata": {
    "id": "VSUFmiHQfj2Q"
   },
   "source": [
    "###### lemmatize/stemming\n",
    "_____________________________________________________________\n",
    "Find the root of word"
   ]
  },
  {
   "cell_type": "code",
   "execution_count": 14,
   "metadata": {
    "executionInfo": {
     "elapsed": 443,
     "status": "ok",
     "timestamp": 1666591221004,
     "user": {
      "displayName": "Galih Wasis Wicaksono",
      "userId": "02341563761367902680"
     },
     "user_tz": -420
    },
    "id": "T1Sexilqcllw"
   },
   "outputs": [],
   "source": [
    "# WordNetLemmatizer requires Pos tags to understand if the word is noun or verb or adjective etc. By default it is set to Noun\n",
    "def wordLemmatizer(data):\n",
    "    tag_map = defaultdict(lambda : wn.NOUN)\n",
    "    tag_map['J'] = wn.ADJ\n",
    "    tag_map['V'] = wn.VERB\n",
    "    tag_map['R'] = wn.ADV\n",
    "    file_clean_k =pd.DataFrame()\n",
    "    for index,entry in enumerate(data):\n",
    "        \n",
    "        # Declaring Empty List to store the words that follow the rules for this step\n",
    "        Final_words = []\n",
    "        # Initializing WordNetLemmatizer()\n",
    "        word_Lemmatized = WordNetLemmatizer()\n",
    "        # pos_tag function below will provide the 'tag' i.e if the word is Noun(N) or Verb(V) or something else.\n",
    "        for word, tag in pos_tag(entry):\n",
    "            # Below condition is to check for Stop words and consider only alphabets\n",
    "            if len(word)>1 and word not in stopwords.words('english') and word.isalpha():\n",
    "                word_Final = word_Lemmatized.lemmatize(word,tag_map[tag[0]])\n",
    "                Final_words.append(word_Final)\n",
    "            # The final processed set of words for each iteration will be stored in 'text_final'\n",
    "                file_clean_k.loc[index,'Keyword_final'] = str(Final_words)\n",
    "                file_clean_k.loc[index,'Keyword_final'] = str(Final_words)\n",
    "                #file_clean_k=file_clean_k.replace(to_replace =\"\\[.\", value = '', regex = True)\n",
    "                #file_clean_k=file_clean_k.replace(to_replace =\"'\", value = '', regex = True)\n",
    "                #file_clean_k=file_clean_k.replace(to_replace =\" \", value = '', regex = True)\n",
    "                #file_clean_k=file_clean_k.replace(to_replace ='\\]', value = '', regex = True)\n",
    "    return file_clean_k"
   ]
  },
  {
   "cell_type": "code",
   "execution_count": null,
   "metadata": {
    "id": "ZilhjoJsAAPw"
   },
   "outputs": [],
   "source": [
    "## This Function took around 13 hours for word Lemmatized and remove the Stop words & single character of word of each 11314 rows.\n",
    "df_clean = wordLemmatizer(df_news['Word tokenize']) \n",
    "df_clean=df_clean.replace(to_replace =\"\\[.\", value = '', regex = True)\n",
    "df_clean=df_clean.replace(to_replace =\"'\", value = '', regex = True)\n",
    "df_clean=df_clean.replace(to_replace =\" \", value = '', regex = True)\n",
    "df_clean=df_clean.replace(to_replace ='\\]', value = '', regex = True)\n",
    "df_clean"
   ]
  },
  {
   "cell_type": "code",
   "execution_count": null,
   "metadata": {
    "id": "nDsX9H7sNkeU"
   },
   "outputs": [],
   "source": [
    "data = pd.concat([df_news, df_clean], axis=1, join='inner')\n",
    "data = data.rename(columns={'Keyword_final': 'Clean_Keyword'})"
   ]
  },
  {
   "cell_type": "markdown",
   "metadata": {
    "id": "mU1ffcChg8j_"
   },
   "source": [
    "###### save to csv clean document\n"
   ]
  },
  {
   "cell_type": "code",
   "execution_count": null,
   "metadata": {
    "id": "5os_qRpJcIkL"
   },
   "outputs": [],
   "source": [
    "data.to_csv(\"DocumentSearchEngine_NewsGroup_Final.csv\", index=False, header=True)"
   ]
  },
  {
   "cell_type": "markdown",
   "metadata": {
    "id": "iRaVIc4_UboC"
   },
   "source": [
    "#### **TF-IDF METHOD**"
   ]
  },
  {
   "cell_type": "code",
   "execution_count": null,
   "metadata": {
    "id": "76wlDhVpcL9m"
   },
   "outputs": [],
   "source": [
    "df_news = pd.read_csv(\"DocumentSearchEngine_NewsGroup_Final.csv\")\n",
    "df_news = df_news.drop(['Word tokenize'],axis=1)"
   ]
  },
  {
   "cell_type": "code",
   "execution_count": null,
   "metadata": {
    "colab": {
     "base_uri": "https://localhost:8080/",
     "height": 206
    },
    "executionInfo": {
     "elapsed": 10,
     "status": "ok",
     "timestamp": 1666452654859,
     "user": {
      "displayName": "TIARA INTANA SARI",
      "userId": "16775397623797960315"
     },
     "user_tz": -420
    },
    "id": "eGUIWxaIcvfe",
    "outputId": "749c40d5-d02c-4f7b-b9ca-44bd36eb1481"
   },
   "outputs": [
    {
     "data": {
      "text/html": [
       "\n",
       "  <div id=\"df-d8470f3b-7d9b-4d75-9271-2563092a5e9e\">\n",
       "    <div class=\"colab-df-container\">\n",
       "      <div>\n",
       "<style scoped>\n",
       "    .dataframe tbody tr th:only-of-type {\n",
       "        vertical-align: middle;\n",
       "    }\n",
       "\n",
       "    .dataframe tbody tr th {\n",
       "        vertical-align: top;\n",
       "    }\n",
       "\n",
       "    .dataframe thead th {\n",
       "        text-align: right;\n",
       "    }\n",
       "</style>\n",
       "<table border=\"1\" class=\"dataframe\">\n",
       "  <thead>\n",
       "    <tr style=\"text-align: right;\">\n",
       "      <th></th>\n",
       "      <th>Subject</th>\n",
       "      <th>content</th>\n",
       "      <th>Clean_Keyword</th>\n",
       "    </tr>\n",
       "  </thead>\n",
       "  <tbody>\n",
       "    <tr>\n",
       "      <th>0</th>\n",
       "      <td>0 WHAT car is this</td>\n",
       "      <td>what car is this nntp posting host rac3.wam.um...</td>\n",
       "      <td>car,nntp,post,host,university,maryland,college...</td>\n",
       "    </tr>\n",
       "    <tr>\n",
       "      <th>1</th>\n",
       "      <td>1 SI Clock Poll Final Call</td>\n",
       "      <td>si clock poll final call summary final call fo...</td>\n",
       "      <td>si,clock,poll,final,call,summary,final,call,si...</td>\n",
       "    </tr>\n",
       "    <tr>\n",
       "      <th>2</th>\n",
       "      <td>2 PB questions</td>\n",
       "      <td>pb questions... purdue university engineering ...</td>\n",
       "      <td>pb,question,purdue,university,engineering,comp...</td>\n",
       "    </tr>\n",
       "    <tr>\n",
       "      <th>3</th>\n",
       "      <td>3 Weitek P9000</td>\n",
       "      <td>weitek p9000 harris computer systems division ...</td>\n",
       "      <td>weitek,harris,computer,system,division,distrib...</td>\n",
       "    </tr>\n",
       "    <tr>\n",
       "      <th>4</th>\n",
       "      <td>4 Shuttle Launch Question</td>\n",
       "      <td>shuttle launch question smithsonian astrophysi...</td>\n",
       "      <td>shuttle,launch,question,smithsonian,astrophysi...</td>\n",
       "    </tr>\n",
       "  </tbody>\n",
       "</table>\n",
       "</div>\n",
       "      <button class=\"colab-df-convert\" onclick=\"convertToInteractive('df-d8470f3b-7d9b-4d75-9271-2563092a5e9e')\"\n",
       "              title=\"Convert this dataframe to an interactive table.\"\n",
       "              style=\"display:none;\">\n",
       "        \n",
       "  <svg xmlns=\"http://www.w3.org/2000/svg\" height=\"24px\"viewBox=\"0 0 24 24\"\n",
       "       width=\"24px\">\n",
       "    <path d=\"M0 0h24v24H0V0z\" fill=\"none\"/>\n",
       "    <path d=\"M18.56 5.44l.94 2.06.94-2.06 2.06-.94-2.06-.94-.94-2.06-.94 2.06-2.06.94zm-11 1L8.5 8.5l.94-2.06 2.06-.94-2.06-.94L8.5 2.5l-.94 2.06-2.06.94zm10 10l.94 2.06.94-2.06 2.06-.94-2.06-.94-.94-2.06-.94 2.06-2.06.94z\"/><path d=\"M17.41 7.96l-1.37-1.37c-.4-.4-.92-.59-1.43-.59-.52 0-1.04.2-1.43.59L10.3 9.45l-7.72 7.72c-.78.78-.78 2.05 0 2.83L4 21.41c.39.39.9.59 1.41.59.51 0 1.02-.2 1.41-.59l7.78-7.78 2.81-2.81c.8-.78.8-2.07 0-2.86zM5.41 20L4 18.59l7.72-7.72 1.47 1.35L5.41 20z\"/>\n",
       "  </svg>\n",
       "      </button>\n",
       "      \n",
       "  <style>\n",
       "    .colab-df-container {\n",
       "      display:flex;\n",
       "      flex-wrap:wrap;\n",
       "      gap: 12px;\n",
       "    }\n",
       "\n",
       "    .colab-df-convert {\n",
       "      background-color: #E8F0FE;\n",
       "      border: none;\n",
       "      border-radius: 50%;\n",
       "      cursor: pointer;\n",
       "      display: none;\n",
       "      fill: #1967D2;\n",
       "      height: 32px;\n",
       "      padding: 0 0 0 0;\n",
       "      width: 32px;\n",
       "    }\n",
       "\n",
       "    .colab-df-convert:hover {\n",
       "      background-color: #E2EBFA;\n",
       "      box-shadow: 0px 1px 2px rgba(60, 64, 67, 0.3), 0px 1px 3px 1px rgba(60, 64, 67, 0.15);\n",
       "      fill: #174EA6;\n",
       "    }\n",
       "\n",
       "    [theme=dark] .colab-df-convert {\n",
       "      background-color: #3B4455;\n",
       "      fill: #D2E3FC;\n",
       "    }\n",
       "\n",
       "    [theme=dark] .colab-df-convert:hover {\n",
       "      background-color: #434B5C;\n",
       "      box-shadow: 0px 1px 3px 1px rgba(0, 0, 0, 0.15);\n",
       "      filter: drop-shadow(0px 1px 2px rgba(0, 0, 0, 0.3));\n",
       "      fill: #FFFFFF;\n",
       "    }\n",
       "  </style>\n",
       "\n",
       "      <script>\n",
       "        const buttonEl =\n",
       "          document.querySelector('#df-d8470f3b-7d9b-4d75-9271-2563092a5e9e button.colab-df-convert');\n",
       "        buttonEl.style.display =\n",
       "          google.colab.kernel.accessAllowed ? 'block' : 'none';\n",
       "\n",
       "        async function convertToInteractive(key) {\n",
       "          const element = document.querySelector('#df-d8470f3b-7d9b-4d75-9271-2563092a5e9e');\n",
       "          const dataTable =\n",
       "            await google.colab.kernel.invokeFunction('convertToInteractive',\n",
       "                                                     [key], {});\n",
       "          if (!dataTable) return;\n",
       "\n",
       "          const docLinkHtml = 'Like what you see? Visit the ' +\n",
       "            '<a target=\"_blank\" href=https://colab.research.google.com/notebooks/data_table.ipynb>data table notebook</a>'\n",
       "            + ' to learn more about interactive tables.';\n",
       "          element.innerHTML = '';\n",
       "          dataTable['output_type'] = 'display_data';\n",
       "          await google.colab.output.renderOutput(dataTable, element);\n",
       "          const docLink = document.createElement('div');\n",
       "          docLink.innerHTML = docLinkHtml;\n",
       "          element.appendChild(docLink);\n",
       "        }\n",
       "      </script>\n",
       "    </div>\n",
       "  </div>\n",
       "  "
      ],
      "text/plain": [
       "                      Subject  \\\n",
       "0          0 WHAT car is this   \n",
       "1  1 SI Clock Poll Final Call   \n",
       "2              2 PB questions   \n",
       "3              3 Weitek P9000   \n",
       "4   4 Shuttle Launch Question   \n",
       "\n",
       "                                             content  \\\n",
       "0  what car is this nntp posting host rac3.wam.um...   \n",
       "1  si clock poll final call summary final call fo...   \n",
       "2  pb questions... purdue university engineering ...   \n",
       "3  weitek p9000 harris computer systems division ...   \n",
       "4  shuttle launch question smithsonian astrophysi...   \n",
       "\n",
       "                                       Clean_Keyword  \n",
       "0  car,nntp,post,host,university,maryland,college...  \n",
       "1  si,clock,poll,final,call,summary,final,call,si...  \n",
       "2  pb,question,purdue,university,engineering,comp...  \n",
       "3  weitek,harris,computer,system,division,distrib...  \n",
       "4  shuttle,launch,question,smithsonian,astrophysi...  "
      ]
     },
     "execution_count": 29,
     "metadata": {},
     "output_type": "execute_result"
    }
   ],
   "source": [
    "df_news.head()"
   ]
  },
  {
   "cell_type": "code",
   "execution_count": null,
   "metadata": {
    "colab": {
     "base_uri": "https://localhost:8080/",
     "height": 73
    },
    "executionInfo": {
     "elapsed": 14,
     "status": "ok",
     "timestamp": 1666452655444,
     "user": {
      "displayName": "TIARA INTANA SARI",
      "userId": "16775397623797960315"
     },
     "user_tz": -420
    },
    "id": "xA4GOea8cTKn",
    "outputId": "5998a142-d087-4263-ba3a-93a395724a07"
   },
   "outputs": [
    {
     "data": {
      "application/vnd.google.colaboratory.intrinsic+json": {
       "type": "string"
      },
      "text/plain": [
       "'car,nntp,post,host,university,maryland,college,park,wonder,anyone,could,enlighten,car,saw,day,door,sport,car,look,late,early,call,bricklin,door,really,small,addition,front,bumper,separate,rest,body,know,anyone,tellme,model,name,engine,spec,year,production,car,make,history,whatever,info,funky,look,car,please,mail,il,bring,neighborhood,lerxst'"
      ]
     },
     "execution_count": 30,
     "metadata": {},
     "output_type": "execute_result"
    }
   ],
   "source": [
    "df_news.Clean_Keyword[0]"
   ]
  },
  {
   "cell_type": "markdown",
   "metadata": {
    "id": "QStcpIwgfz3N"
   },
   "source": [
    "##### **Create Term with TF-IDF Weighting**"
   ]
  },
  {
   "cell_type": "code",
   "execution_count": null,
   "metadata": {
    "id": "s7SH4pqggKYG"
   },
   "outputs": [],
   "source": [
    "from sklearn.feature_extraction.text import TfidfVectorizer\n",
    "import operator\n",
    "\n",
    "## Create Vocabulary\n",
    "vocabulary = set()\n",
    "\n",
    "for doc in df_news.Clean_Keyword:\n",
    "    vocabulary.update(doc.split(','))\n",
    "vocabulary = list(vocabulary)\n",
    "\n",
    "# Intializating the tfIdf model\n",
    "tfidf = TfidfVectorizer(vocabulary=vocabulary)\n",
    "\n",
    "# Fit the TfIdf model\n",
    "tfidf.fit(df_news.Clean_Keyword)\n",
    "\n",
    "# Transform the TfIdf model\n",
    "tfidf_tran=tfidf.transform(df_news.Clean_Keyword)"
   ]
  },
  {
   "cell_type": "markdown",
   "metadata": {
    "id": "AgQIfcbwgbCL"
   },
   "source": [
    "##### **Create a vector for Query/search keywords**\n",
    "_____________________________________________________\n",
    "membuat vektor dari query yang nanti akan dimasukkan"
   ]
  },
  {
   "cell_type": "code",
   "execution_count": null,
   "metadata": {
    "id": "kw8nKfMjgNgM"
   },
   "outputs": [],
   "source": [
    "def gen_vector_T(tokens): #generate perhitungan TFIDF kedalam fungsi\n",
    "    Q = np.zeros((len(vocabulary)))    \n",
    "    x = tfidf.transform(tokens)\n",
    "    \n",
    "    #print(tokens[0].split(','))\n",
    "    for token in tokens[0].split(','):\n",
    "        #print(token)\n",
    "        try:\n",
    "            ind = vocabulary.index(token)\n",
    "            Q[ind]  = x[0, tfidf.vocabulary_[token]]\n",
    "        except:\n",
    "            pass\n",
    "    return Q"
   ]
  },
  {
   "cell_type": "markdown",
   "metadata": {
    "id": "XZShLADWgfTx"
   },
   "source": [
    "##### **Calculate Cosine Similarity**\n",
    "______________________________________________\n",
    "menghitung similaritas dari query yang dimasukkan dengan database yang sudah ada\n",
    "\n",
    "rumus cosine similarity\n",
    "\n",
    "![image.png](data:image/png;base64,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)"
   ]
  },
  {
   "cell_type": "code",
   "execution_count": null,
   "metadata": {
    "id": "4b7sjhTugPsI"
   },
   "outputs": [],
   "source": [
    "def cosine_sim(a, b):\n",
    "    cos_sim = np.dot(a, b)/(np.linalg.norm(a)*np.linalg.norm(b))\n",
    "    return cos_sim"
   ]
  },
  {
   "cell_type": "markdown",
   "metadata": {
    "id": "EO83P6K3glEQ"
   },
   "source": [
    "##### **Cosine Similarity with Document Query**\n",
    "___________________________________________________\n",
    "fungsi untuk menampilkan dokumen-dokumen yang memiliki kemiripan dengan query didasarkan pada perhitungan similarity-nya"
   ]
  },
  {
   "cell_type": "code",
   "execution_count": null,
   "metadata": {
    "id": "4vR4pMpPgQ8V"
   },
   "outputs": [],
   "source": [
    "def cosine_similarity_T(k, query):\n",
    "    #print(\"Cosine Similarity\")\n",
    "    preprocessed_query = preprocessed_query = re.sub(\"\\W+\", \" \", query).strip()\n",
    "    tokens = word_tokenize(str(preprocessed_query))\n",
    "    q_df = pd.DataFrame(columns=['q_clean'])\n",
    "    q_df.loc[0,'q_clean'] =tokens\n",
    "    q_df['q_clean'] =wordLemmatizer(q_df.q_clean)\n",
    "    q_df=q_df.replace(to_replace =\"\\[.\", value = '', regex = True)\n",
    "    q_df=q_df.replace(to_replace =\"'\", value = '', regex = True)\n",
    "    q_df=q_df.replace(to_replace =\" \", value = '', regex = True)\n",
    "    q_df=q_df.replace(to_replace ='\\]', value = '', regex = True)\n",
    "    #print(\"\\nQuery:\", query)\n",
    "    #print(\"\")\n",
    "    #print(tokens)\n",
    "    \n",
    "    d_cosines = []\n",
    "    \n",
    "    query_vector = gen_vector_T(q_df['q_clean'])\n",
    "    \n",
    "    for d in tfidf_tran.A:\n",
    "        \n",
    "        d_cosines.append(cosine_sim(query_vector, d))\n",
    "                    \n",
    "    out = np.array(d_cosines).argsort()[-k:][::-1]\n",
    "    #print(\"\")\n",
    "    d_cosines.sort()\n",
    "    #print(out)\n",
    "    a = pd.DataFrame()\n",
    "    for i,index in enumerate(out):\n",
    "        a.loc[i,'index'] = str(index)\n",
    "        a.loc[i,'content'] = df_news['content'][index]\n",
    "    for j,simScore in enumerate(d_cosines[-k:][::-1]):\n",
    "        a.loc[j,'Score'] = simScore\n",
    "    return a"
   ]
  },
  {
   "cell_type": "markdown",
   "metadata": {
    "id": "v8TsUDP0gtte"
   },
   "source": [
    "##### **Result**\n",
    "__________________________________________\n",
    "score didasarkan pada similaritas query dengan tabel \"clean_keyword\" "
   ]
  },
  {
   "cell_type": "code",
   "execution_count": null,
   "metadata": {
    "colab": {
     "base_uri": "https://localhost:8080/",
     "height": 206
    },
    "executionInfo": {
     "elapsed": 3209,
     "status": "ok",
     "timestamp": 1666452677571,
     "user": {
      "displayName": "TIARA INTANA SARI",
      "userId": "16775397623797960315"
     },
     "user_tz": -420
    },
    "id": "IuWrUxd8iBIM",
    "outputId": "461a19bc-a17e-4003-c154-6cca34cb0d0e"
   },
   "outputs": [
    {
     "data": {
      "text/html": [
       "\n",
       "  <div id=\"df-35afbbbc-c1fb-448a-9521-f3260293bd41\">\n",
       "    <div class=\"colab-df-container\">\n",
       "      <div>\n",
       "<style scoped>\n",
       "    .dataframe tbody tr th:only-of-type {\n",
       "        vertical-align: middle;\n",
       "    }\n",
       "\n",
       "    .dataframe tbody tr th {\n",
       "        vertical-align: top;\n",
       "    }\n",
       "\n",
       "    .dataframe thead th {\n",
       "        text-align: right;\n",
       "    }\n",
       "</style>\n",
       "<table border=\"1\" class=\"dataframe\">\n",
       "  <thead>\n",
       "    <tr style=\"text-align: right;\">\n",
       "      <th></th>\n",
       "      <th>index</th>\n",
       "      <th>content</th>\n",
       "      <th>Score</th>\n",
       "    </tr>\n",
       "  </thead>\n",
       "  <tbody>\n",
       "    <tr>\n",
       "      <th>0</th>\n",
       "      <td>2231</td>\n",
       "      <td>computer engr vs. computer science distributio...</td>\n",
       "      <td>0.413638</td>\n",
       "    </tr>\n",
       "    <tr>\n",
       "      <th>1</th>\n",
       "      <td>4326</td>\n",
       "      <td>computer engr vs. computer science cs departme...</td>\n",
       "      <td>0.335903</td>\n",
       "    </tr>\n",
       "    <tr>\n",
       "      <th>2</th>\n",
       "      <td>2536</td>\n",
       "      <td>report on privacy protecting off line cash ava...</td>\n",
       "      <td>0.293179</td>\n",
       "    </tr>\n",
       "    <tr>\n",
       "      <th>3</th>\n",
       "      <td>10818</td>\n",
       "      <td>stand alone editing suite. article i.d. shelle...</td>\n",
       "      <td>0.281526</td>\n",
       "    </tr>\n",
       "    <tr>\n",
       "      <th>4</th>\n",
       "      <td>8464</td>\n",
       "      <td>date is stuck university of toronto erindale c...</td>\n",
       "      <td>0.275345</td>\n",
       "    </tr>\n",
       "  </tbody>\n",
       "</table>\n",
       "</div>\n",
       "      <button class=\"colab-df-convert\" onclick=\"convertToInteractive('df-35afbbbc-c1fb-448a-9521-f3260293bd41')\"\n",
       "              title=\"Convert this dataframe to an interactive table.\"\n",
       "              style=\"display:none;\">\n",
       "        \n",
       "  <svg xmlns=\"http://www.w3.org/2000/svg\" height=\"24px\"viewBox=\"0 0 24 24\"\n",
       "       width=\"24px\">\n",
       "    <path d=\"M0 0h24v24H0V0z\" fill=\"none\"/>\n",
       "    <path d=\"M18.56 5.44l.94 2.06.94-2.06 2.06-.94-2.06-.94-.94-2.06-.94 2.06-2.06.94zm-11 1L8.5 8.5l.94-2.06 2.06-.94-2.06-.94L8.5 2.5l-.94 2.06-2.06.94zm10 10l.94 2.06.94-2.06 2.06-.94-2.06-.94-.94-2.06-.94 2.06-2.06.94z\"/><path d=\"M17.41 7.96l-1.37-1.37c-.4-.4-.92-.59-1.43-.59-.52 0-1.04.2-1.43.59L10.3 9.45l-7.72 7.72c-.78.78-.78 2.05 0 2.83L4 21.41c.39.39.9.59 1.41.59.51 0 1.02-.2 1.41-.59l7.78-7.78 2.81-2.81c.8-.78.8-2.07 0-2.86zM5.41 20L4 18.59l7.72-7.72 1.47 1.35L5.41 20z\"/>\n",
       "  </svg>\n",
       "      </button>\n",
       "      \n",
       "  <style>\n",
       "    .colab-df-container {\n",
       "      display:flex;\n",
       "      flex-wrap:wrap;\n",
       "      gap: 12px;\n",
       "    }\n",
       "\n",
       "    .colab-df-convert {\n",
       "      background-color: #E8F0FE;\n",
       "      border: none;\n",
       "      border-radius: 50%;\n",
       "      cursor: pointer;\n",
       "      display: none;\n",
       "      fill: #1967D2;\n",
       "      height: 32px;\n",
       "      padding: 0 0 0 0;\n",
       "      width: 32px;\n",
       "    }\n",
       "\n",
       "    .colab-df-convert:hover {\n",
       "      background-color: #E2EBFA;\n",
       "      box-shadow: 0px 1px 2px rgba(60, 64, 67, 0.3), 0px 1px 3px 1px rgba(60, 64, 67, 0.15);\n",
       "      fill: #174EA6;\n",
       "    }\n",
       "\n",
       "    [theme=dark] .colab-df-convert {\n",
       "      background-color: #3B4455;\n",
       "      fill: #D2E3FC;\n",
       "    }\n",
       "\n",
       "    [theme=dark] .colab-df-convert:hover {\n",
       "      background-color: #434B5C;\n",
       "      box-shadow: 0px 1px 3px 1px rgba(0, 0, 0, 0.15);\n",
       "      filter: drop-shadow(0px 1px 2px rgba(0, 0, 0, 0.3));\n",
       "      fill: #FFFFFF;\n",
       "    }\n",
       "  </style>\n",
       "\n",
       "      <script>\n",
       "        const buttonEl =\n",
       "          document.querySelector('#df-35afbbbc-c1fb-448a-9521-f3260293bd41 button.colab-df-convert');\n",
       "        buttonEl.style.display =\n",
       "          google.colab.kernel.accessAllowed ? 'block' : 'none';\n",
       "\n",
       "        async function convertToInteractive(key) {\n",
       "          const element = document.querySelector('#df-35afbbbc-c1fb-448a-9521-f3260293bd41');\n",
       "          const dataTable =\n",
       "            await google.colab.kernel.invokeFunction('convertToInteractive',\n",
       "                                                     [key], {});\n",
       "          if (!dataTable) return;\n",
       "\n",
       "          const docLinkHtml = 'Like what you see? Visit the ' +\n",
       "            '<a target=\"_blank\" href=https://colab.research.google.com/notebooks/data_table.ipynb>data table notebook</a>'\n",
       "            + ' to learn more about interactive tables.';\n",
       "          element.innerHTML = '';\n",
       "          dataTable['output_type'] = 'display_data';\n",
       "          await google.colab.output.renderOutput(dataTable, element);\n",
       "          const docLink = document.createElement('div');\n",
       "          docLink.innerHTML = docLinkHtml;\n",
       "          element.appendChild(docLink);\n",
       "        }\n",
       "      </script>\n",
       "    </div>\n",
       "  </div>\n",
       "  "
      ],
      "text/plain": [
       "   index                                            content     Score\n",
       "0   2231  computer engr vs. computer science distributio...  0.413638\n",
       "1   4326  computer engr vs. computer science cs departme...  0.335903\n",
       "2   2536  report on privacy protecting off line cash ava...  0.293179\n",
       "3  10818  stand alone editing suite. article i.d. shelle...  0.281526\n",
       "4   8464  date is stuck university of toronto erindale c...  0.275345"
      ]
     },
     "execution_count": 36,
     "metadata": {},
     "output_type": "execute_result"
    }
   ],
   "source": [
    "cosine_similarity_T(5,'system computer')"
   ]
  }
 ],
 "metadata": {
  "colab": {
   "collapsed_sections": [
    "VK8wXLrdcVsl",
    "S6UDg154bFN8",
    "mU1ffcChg8j_",
    "QStcpIwgfz3N",
    "AgQIfcbwgbCL",
    "XZShLADWgfTx",
    "EO83P6K3glEQ",
    "v8TsUDP0gtte"
   ],
   "provenance": []
  },
  "kernelspec": {
   "display_name": "Python 3 (ipykernel)",
   "language": "python",
   "name": "python3"
  },
  "language_info": {
   "codemirror_mode": {
    "name": "ipython",
    "version": 3
   },
   "file_extension": ".py",
   "mimetype": "text/x-python",
   "name": "python",
   "nbconvert_exporter": "python",
   "pygments_lexer": "ipython3",
   "version": "3.9.18"
  }
 },
 "nbformat": 4,
 "nbformat_minor": 4
}
